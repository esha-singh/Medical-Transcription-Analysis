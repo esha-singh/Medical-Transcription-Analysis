{
 "cells": [
  {
   "cell_type": "markdown",
   "metadata": {},
   "source": [
    "## Text Transcript"
   ]
  },
  {
   "cell_type": "code",
   "execution_count": 3,
   "metadata": {},
   "outputs": [],
   "source": [
    "subjective = '''Alright on you. Dr. Brown. Hi Andrew, what brings you in today? Well, to be honest. I traveled recently with my girlfriend. We had a really fun time. We went out and went skiing. So yeah, after after this skiing I came back and actually made my girlfriend got into a really bad fight, but after we got back from the ski trip, I noticed that I had a like a really bad sore throat To the point where I can almost can't eat or drink. But the ski just last week so pretty recent but this skiing was really really really fun. I have to say I seriously Have you any favor? Yeah had a clock 2010 to the other day. So pretty high, but I just took some Advil and put an ice pack on my head and just lay down. Okay, and then do you notice if the if your thought is so adjusting the morning or if it's store all day. It's definitely more sore in the morning. But once I have some water it calms down a little bit, but it's pretty consistent throughout the day. Okay. Yeah, and would you would you describe it as being just sore I would you say that it also feels like it's burning I would say it's burning I would definitely say it's burning. I don't know if this is relevant at all. But I've I have a history of high blood pressure on my dad's side of the family. I don't know if that's relevant, but I figured I'd let you know. Okay, thank you for the family history. Did you have any issues with the dump the color of your urine changing at all? I haven't noticed that I drink water. I'm pretty good about drinking water. So it's made mostly clear. Any sinus congestion a drainage? Yeah. I definitely have a little bit of a nasal drip and yeah pretty bad like runny nose. So I think those are connected not a good color like dark dark dark green. There's been blood in it a few times when I blow my nose in the morning and it is the drainage mainly in the morning or is that all day too? It's pretty much all day. Okay, and do you have any tenderness in your face? My forehead feels pretty sore. But yeah, that's that's about it. I forgot to tell you when I was skiing. I also when I went off a jump and when I landed I felt my ankle kind of like crack a little bit and it's been pretty sort of walk on. I forgot to mention that but that's also kind of bothering me. Okay. Thank here. Alright. Last but not least I have your how are you having any ear pain on one side or the other? No not know your pain. Okay, and then what about if you're having any problems with any swollen lymph nodes, I can definitely feel that they're swollen like right under my burden on my jawline. I think that's where you can feel them and then I'll be noticed any changes inside of your mouth at all. I noticed my my tongue is like oddly dry throughout the dam. Feels like sandpaper, and I guess I just like dryness in the mouth. Okay. Alright. Okay, and then on the left on the left ankle have you been able to walk on it? I put one of those little ankle braces on and that helps but it's pretty sort of welcome. Do you need assistance to walk like a cane or a crutch? Excuse me. Yeah, I've been using a crutch. Okay, and does it hurt when you get into bed at night or does it kind of calm down when I'm not on it? It's not very painful. But when I put weight on it, it's it's it lights up pretty good. Okay, is it swollen? Yes. Does is it a different color? Yeah, it's like a kind of like my boogers is almost like a green blue ish bruised. It's a it's a pretty gnarly looking bruised. Okay, and then does it is that bruise on the inside of the ankle or the outside of the ankle? I would say it's more on the outside. But my whole foot is pretty black and blue and kind of like that weird color. Okay, and do you have any swelling in your leg? A little bit up my ankle, but not much not like in my knee. Does that swelling go down overnight? Not really. No. Okay, so it's just stays there. Have you had any calf pain? Yeah, definitely some calf pain. Well, that's nice. All right, and does the does that ankle feel that that ankle that leg feel warmer than the other leg warmer slightly warmer? Yeah. Okay, and are you able to put your foot in a shoe, you know? I am able to but it's it's difficult. So not really. Yea, it's very tight. Did you get any X-Rays done on the ankle? Not yet? No, and now you've been taking his the a deal. Yeah, Advil for the it helps my sore throat and helps the obviously my foot. Okay. Do you want me to go in to tell you what we're going to probably do for these things? Yes to do a quick little physical exam and then go ahead and assessment plan.'''\n",
    "objective = '''Alright, so General your pure look normal and no acute distress. You are look like you have good hygiene and your effect and mood a congruent your Pleasant your slim athletic bill. Okay on your AT&T. There's your a traumatic. No asymmetry noted in the self and the head ears show normal temp antique membranes with serous fluid bilaterally decrease light reflection and the no-shows swollen turbulence bilaterally erythema Des tissue and clear nasal drainage. Um mouth shows ear thing with his throat with Cobblestone pattern in the Ferengi. Oh area and thick mucus draining down. No, no complex spots are any type of petechiae a noted next shows. Swollen submandibular lymph nodes bilaterally and on the right anterior cervical lymph node less than one centimeter. Non-tender lungs are clear heart regular rate and Rhythm without any Without any I'll murmurs are breweries or anything like that. There's no issues with crackles in the lungs. There's a do any am abdomen is normal and then we get down to your lower extremities you have swelling in the lower extremity. And you said it was the left ankle. So look at the right ankle appears normal without any problems. No swelling the left ankle is swollen. Predominantly discolored on the lateral aspect some discoloration just below the Melius on the inner aspect pain with with internal reflection and with external flexion pain with supination and with numbers pronation what else I would say for for the sake of time.'''\n",
    "assesment = \"Let's go over the assessment and plan. Okay assessment plan. So for the acute pharyngitis we're going to and we're doing virtual visit, correct? Yeah, okay. We're going to call it. Well, since you also have we're going to do let's just say a salt water rinse and gargle to help relieve the pain use Advil or Tylenol as needed for fever and for body aches and pain. We're going to do. I'm going to put in an acute sinusitis as well and have you do Sefton 500 milligrams one tablet pob ID as long as you're not allergic to it, and then we're going to dispense 10 10 days worth of that. So you'll get 20 tablets and you'll need to take it one tablet twice a day and you'll take Mucinex in the morning to help with the drainage and a little bit of Sudafed by the afternoon to try to dry things up and then at Term, you can either use NyQuil or coracii nipple if your blood pressure is a problem. If you notice that your blood pressure is elevated with using the Sudafed being greater than 140 over 90. You'll need to stop. Okay, and then for the left ankle the little you going to put some key kinesiology tape on that. We're going to send you to get an x-ray of the ankle. We should also get an ultrasound because you had positive calf pain. We just want to make sure thing looks good. You can use the Advil for now continue to use the crutches needed and will call you with the X-ray results. Are you can call or email us for the results. So it's perfect. Alright, I'm going to stop the recording.\"\n"
   ]
  },
  {
   "cell_type": "markdown",
   "metadata": {},
   "source": [
    "### Subjective Extraction"
   ]
  },
  {
   "cell_type": "code",
   "execution_count": 10,
   "metadata": {},
   "outputs": [],
   "source": [
    "from nltk.tokenize import sent_tokenize\n",
    "qna_map = dict()\n",
    "cur_ques = \"NA\"\n",
    "for sent in sent_tokenize(subjective):\n",
    "    if '?' in sent:\n",
    "        cur_ques = sent\n",
    "    else:\n",
    "        if cur_ques not in qna_map:\n",
    "            qna_map[cur_ques] = ''\n",
    "        qna_map[cur_ques] += ' ' + sent"
   ]
  },
  {
   "cell_type": "markdown",
   "metadata": {},
   "source": [
    "#### Text Preprocessing"
   ]
  },
  {
   "cell_type": "code",
   "execution_count": 45,
   "metadata": {},
   "outputs": [],
   "source": [
    "import pandas as pd\n",
    "\n",
    "#patient_answers = sent_tokenize(' '.join(list(qna_map.values())))\n",
    "patient_answers = sent_tokenize(assesment)\n",
    "\n",
    "# remove punctuations, numbers and special characters\n",
    "clean_answers = pd.Series(patient_answers).str.replace(\"[^a-zA-Z]\", \" \")\n",
    "\n",
    "# make alphabets lowercase\n",
    "clean_answers = [s.lower() for s in clean_answers]"
   ]
  },
  {
   "cell_type": "markdown",
   "metadata": {},
   "source": [
    "##### Stop word removal"
   ]
  },
  {
   "cell_type": "code",
   "execution_count": 46,
   "metadata": {},
   "outputs": [],
   "source": [
    "from nltk.corpus import stopwords\n",
    "stop_words = stopwords.words('english')\n",
    "\n",
    "# function to remove stopwords\n",
    "def remove_stopwords(sen):\n",
    "    sen_new = \" \".join([i for i in sen if i not in stop_words])\n",
    "    return sen_new\n",
    "\n",
    "# remove stopwords from the sentences\n",
    "clean_answers = [remove_stopwords(r.split()) for r in clean_answers]"
   ]
  },
  {
   "cell_type": "markdown",
   "metadata": {},
   "source": [
    "#### Vector Representation of Senteces using Word Embeddings"
   ]
  },
  {
   "cell_type": "code",
   "execution_count": 47,
   "metadata": {},
   "outputs": [],
   "source": [
    "# Extract word vectors\n",
    "import numpy as np\n",
    "\n",
    "word_embeddings = {}\n",
    "f = open('glove.6B/glove.6B.100d.txt', encoding='utf-8')\n",
    "for line in f:\n",
    "    values = line.split()\n",
    "    word = values[0]\n",
    "    coefs = np.asarray(values[1:], dtype='float32')\n",
    "    word_embeddings[word] = coefs\n",
    "f.close()"
   ]
  },
  {
   "cell_type": "code",
   "execution_count": 48,
   "metadata": {},
   "outputs": [],
   "source": [
    "sentence_vectors = []\n",
    "for i in clean_answers:\n",
    "    if len(i) != 0:\n",
    "        v = sum([word_embeddings.get(w, np.zeros((100,))) for w in i.split()])/(len(i.split())+0.001)\n",
    "    else:\n",
    "        v = np.zeros((100,))\n",
    "    sentence_vectors.append(v)"
   ]
  },
  {
   "cell_type": "markdown",
   "metadata": {},
   "source": [
    "### Similarity Matrix Preperation"
   ]
  },
  {
   "cell_type": "code",
   "execution_count": 49,
   "metadata": {},
   "outputs": [],
   "source": [
    "from sklearn.metrics.pairwise import cosine_similarity\n",
    "\n",
    "# similarity matrix\n",
    "sim_mat = np.zeros([len(patient_answers), len(patient_answers)])\n",
    "\n",
    "for i in range(len(patient_answers)):\n",
    "    for j in range(len(patient_answers)):\n",
    "        if i != j:\n",
    "            sim_mat[i][j] = cosine_similarity(sentence_vectors[i].reshape(1,100), sentence_vectors[j].reshape(1,100))[0,0]"
   ]
  },
  {
   "cell_type": "markdown",
   "metadata": {},
   "source": [
    "### Applying PageRank"
   ]
  },
  {
   "cell_type": "code",
   "execution_count": 50,
   "metadata": {},
   "outputs": [],
   "source": [
    "import networkx as nx\n",
    "\n",
    "nx_graph = nx.from_numpy_array(sim_mat)\n",
    "scores = nx.pagerank(nx_graph)"
   ]
  },
  {
   "cell_type": "markdown",
   "metadata": {},
   "source": [
    "### TextRank extraction"
   ]
  },
  {
   "cell_type": "code",
   "execution_count": 55,
   "metadata": {},
   "outputs": [
    {
     "name": "stdout",
     "output_type": "stream",
     "text": [
      "Let's go over the assessment and plan.\n",
      "We're going to call it.\n",
      "So you'll get 20 tablets and you'll need to take it one tablet twice a day and you'll take Mucinex in the morning to help with the drainage and a little bit of Sudafed by the afternoon to try to dry things up and then at Term, you can either use NyQuil or coracii nipple if your blood pressure is a problem.\n",
      "You'll need to stop.\n",
      "Okay, and then for the left ankle the little you going to put some key kinesiology tape on that.\n",
      "We just want to make sure thing looks good.\n"
     ]
    }
   ],
   "source": [
    "ranked_sentences = sorted(((scores[i],s) for i,s in enumerate(patient_answers)), reverse=True)\n",
    "\n",
    "top_k = 6\n",
    "ranked_sentences = [i[1] for i in ranked_sentences[:top_k]]\n",
    "\n",
    "# Extract sentences in order for coherence\n",
    "for i in patient_answers:\n",
    "    if i in ranked_sentences:\n",
    "        print (i)"
   ]
  },
  {
   "cell_type": "code",
   "execution_count": 16,
   "metadata": {},
   "outputs": [],
   "source": [
    "### References\n",
    "# https://www.analyticsvidhya.com/blog/2018/11/introduction-text-summarization-textrank-python/"
   ]
  }
 ],
 "metadata": {
  "kernelspec": {
   "display_name": "Python 3",
   "language": "python",
   "name": "python3"
  },
  "language_info": {
   "codemirror_mode": {
    "name": "ipython",
    "version": 3
   },
   "file_extension": ".py",
   "mimetype": "text/x-python",
   "name": "python",
   "nbconvert_exporter": "python",
   "pygments_lexer": "ipython3",
   "version": "3.7.4"
  }
 },
 "nbformat": 4,
 "nbformat_minor": 2
}
